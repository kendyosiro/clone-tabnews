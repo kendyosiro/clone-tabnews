{
  "nbformat": 4,
  "nbformat_minor": 0,
  "metadata": {
    "colab": {
      "provenance": [],
      "include_colab_link": true
    },
    "kernelspec": {
      "name": "python3",
      "display_name": "Python 3"
    }
  },
  "cells": [
    {
      "cell_type": "markdown",
      "metadata": {
        "id": "view-in-github",
        "colab_type": "text"
      },
      "source": [
        "<a href=\"https://colab.research.google.com/github/kendyosiro/clone-tabnews/blob/main/Fun%C3%A7%C3%B5es.ipynb\" target=\"_parent\"><img src=\"https://colab.research.google.com/assets/colab-badge.svg\" alt=\"Open In Colab\"/></a>"
      ]
    },
    {
      "cell_type": "markdown",
      "metadata": {
        "id": "IEcrEbE3Ff-i"
      },
      "source": [
        "# Funções\n",
        "\n",
        "- Trechos de programa que recebem um determinado nome e podem ser chamados várias vezes durante a execução\n",
        "- Principais vantagens: reutilização de código, modularidade e facilidade de manutenção do sistema"
      ]
    },
    {
      "cell_type": "markdown",
      "metadata": {
        "id": "hVl4JmCBFh35"
      },
      "source": [
        "## Função sem parâmetro e sem retorno\n",
        "\n"
      ]
    },
    {
      "cell_type": "code",
      "metadata": {
        "id": "tDHyzEN6Y-E1"
      },
      "source": [
        "def mensagem():\n",
        "  print('Texto da função')"
      ],
      "execution_count": 1,
      "outputs": []
    },
    {
      "cell_type": "code",
      "metadata": {
        "id": "r-_JEbYrZHFR",
        "colab": {
          "base_uri": "https://localhost:8080/"
        },
        "outputId": "a1adad7c-8476-438e-c64b-26a6d9c57de7"
      },
      "source": [
        "mensagem()\n",
        "mensagem()\n",
        "mensagem()"
      ],
      "execution_count": 2,
      "outputs": [
        {
          "output_type": "stream",
          "name": "stdout",
          "text": [
            "Texto da função\n",
            "Texto da função\n",
            "Texto da função\n"
          ]
        }
      ]
    },
    {
      "cell_type": "markdown",
      "metadata": {
        "id": "acu6pXhQHffb"
      },
      "source": [
        "## Função com passagem de parâmetro"
      ]
    },
    {
      "cell_type": "code",
      "metadata": {
        "id": "wCegzOSuZWNY"
      },
      "source": [
        "def mensagem(texto):\n",
        "  print(texto)"
      ],
      "execution_count": 4,
      "outputs": []
    },
    {
      "cell_type": "code",
      "metadata": {
        "id": "5Mu-2bGUZdIZ",
        "colab": {
          "base_uri": "https://localhost:8080/"
        },
        "outputId": "6fa3728e-ae34-4814-a392-cf1dd72de878"
      },
      "source": [
        "mensagem('texto 1')\n",
        "mensagem('texto 2')\n",
        "mensagem('texto 3')\n",
        "mensagem('meu texto')"
      ],
      "execution_count": 6,
      "outputs": [
        {
          "output_type": "stream",
          "name": "stdout",
          "text": [
            "texto 1\n",
            "texto 2\n",
            "texto 3\n",
            "meu texto\n"
          ]
        }
      ]
    },
    {
      "cell_type": "code",
      "metadata": {
        "id": "Qlf-zQJCZyZR"
      },
      "source": [
        "def soma(a, b):\n",
        "  print(a + b)"
      ],
      "execution_count": 8,
      "outputs": []
    },
    {
      "cell_type": "code",
      "metadata": {
        "id": "ykaR-XQQZ2uf",
        "colab": {
          "base_uri": "https://localhost:8080/"
        },
        "outputId": "f69bf691-207f-4740-f3ad-fdd334002ce0"
      },
      "source": [
        "soma(2, 3)"
      ],
      "execution_count": 9,
      "outputs": [
        {
          "output_type": "stream",
          "name": "stdout",
          "text": [
            "5\n"
          ]
        }
      ]
    },
    {
      "cell_type": "code",
      "metadata": {
        "id": "el9_XnkxZ7PT",
        "colab": {
          "base_uri": "https://localhost:8080/"
        },
        "outputId": "fdac9316-256b-4da9-bc51-e118916c35f6"
      },
      "source": [
        "soma(3, 3)\n",
        "soma(1, 2)"
      ],
      "execution_count": 10,
      "outputs": [
        {
          "output_type": "stream",
          "name": "stdout",
          "text": [
            "6\n",
            "3\n"
          ]
        }
      ]
    },
    {
      "cell_type": "markdown",
      "metadata": {
        "id": "A_OYX7XBIBCU"
      },
      "source": [
        "## Função com passagem de parâmetros e retorno"
      ]
    },
    {
      "cell_type": "code",
      "metadata": {
        "id": "SkkVQpIHaE14"
      },
      "source": [
        "def soma(a, b):\n",
        "  return a + b"
      ],
      "execution_count": 11,
      "outputs": []
    },
    {
      "cell_type": "code",
      "metadata": {
        "id": "V8f3NdypaMzA",
        "colab": {
          "base_uri": "https://localhost:8080/"
        },
        "outputId": "704ff238-56e0-4186-c056-f306576670c4"
      },
      "source": [
        "soma(3, 2)"
      ],
      "execution_count": 12,
      "outputs": [
        {
          "output_type": "execute_result",
          "data": {
            "text/plain": [
              "5"
            ]
          },
          "metadata": {},
          "execution_count": 12
        }
      ]
    },
    {
      "cell_type": "code",
      "metadata": {
        "id": "AhQErC_faRQl",
        "colab": {
          "base_uri": "https://localhost:8080/"
        },
        "outputId": "086d990d-0892-4b59-fe8c-f8e97efd9466"
      },
      "source": [
        "# r = 7\n",
        "r = soma(3, 2)\n",
        "print(r)"
      ],
      "execution_count": 13,
      "outputs": [
        {
          "output_type": "stream",
          "name": "stdout",
          "text": [
            "5\n"
          ]
        }
      ]
    },
    {
      "cell_type": "code",
      "metadata": {
        "id": "wRhqE2ubamj2"
      },
      "source": [
        "def calcula_energia_potencial_gravitacional(m, h, g = 10):\n",
        "  '''\n",
        "  Calcula a energia potencial gravitacional\n",
        "  Argumentos:\n",
        "  m: massa, entrada como uma variável float\n",
        "  h: altura, entrada como uma variável float\n",
        "\n",
        "  Argumento opcional:\n",
        "  g: aceleração gravitacional, com valor default de 10\n",
        "  '''\n",
        "  e = g * m * h\n",
        "  return e"
      ],
      "execution_count": 14,
      "outputs": []
    },
    {
      "cell_type": "code",
      "metadata": {
        "id": "QecHSc8aa2ai",
        "colab": {
          "base_uri": "https://localhost:8080/"
        },
        "outputId": "24ca7237-59d3-4c1f-a7c7-d6ec48c1d6cb"
      },
      "source": [
        "calcula_energia_potencial_gravitacional(30, 12)"
      ],
      "execution_count": 15,
      "outputs": [
        {
          "output_type": "execute_result",
          "data": {
            "text/plain": [
              "3600"
            ]
          },
          "metadata": {},
          "execution_count": 15
        }
      ]
    },
    {
      "cell_type": "code",
      "metadata": {
        "id": "5ZnVlGc1a6kR",
        "colab": {
          "base_uri": "https://localhost:8080/",
          "height": 34
        },
        "outputId": "e384fabb-64ae-4e8c-e566-de450d741fad"
      },
      "source": [
        "calcula_energia_potencial_gravitacional(30, 12, 9.8)"
      ],
      "execution_count": null,
      "outputs": [
        {
          "output_type": "execute_result",
          "data": {
            "text/plain": [
              "3528.0"
            ]
          },
          "metadata": {
            "tags": []
          },
          "execution_count": 18
        }
      ]
    },
    {
      "cell_type": "code",
      "metadata": {
        "id": "4w78UhKKbJ18",
        "colab": {
          "base_uri": "https://localhost:8080/",
          "height": 202
        },
        "outputId": "d634675f-bea1-46ac-ccf7-3d666660bcc1"
      },
      "source": [
        "help(calcula_energia_potencial_gravitacional)"
      ],
      "execution_count": null,
      "outputs": [
        {
          "output_type": "stream",
          "text": [
            "Help on function calcula_energia_potencial_gravitacional in module __main__:\n",
            "\n",
            "calcula_energia_potencial_gravitacional(m, h, g=10)\n",
            "    Calcula a energia potencial gravitacional\n",
            "    Argumentos:\n",
            "    m: massa, entrada como uma variável float\n",
            "    h: altura, entrada como uma variável float\n",
            "    \n",
            "    Argumento opcional:\n",
            "    g: aceleração gravitacional, com valor default de 10\n",
            "\n"
          ],
          "name": "stdout"
        }
      ]
    }
  ]
}